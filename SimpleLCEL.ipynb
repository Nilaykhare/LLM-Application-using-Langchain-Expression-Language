{
 "cells": [
  {
   "metadata": {},
   "cell_type": "markdown",
   "source": [
    "### Simple LLM Application with LCEL\n",
    "In this quickstart we'll show you how to build a simple LLM application with LangChain. This application will translate text from English into another language. This is a relatively simple LLM application - it's just a single LLM call plus some prompting. Still, this is a great way to get started with LangChain - a lot of features can be built with just some prompting and an LLM call!\n",
    "\n",
    "overview of project:\n",
    "\n",
    "- Using language models\n",
    "\n",
    "- Using PromptTemplates and OutputParsers\n",
    "\n",
    "- Using LangChain Expression Language (LCEL) to chain components together\n",
    "\n",
    "- Debugging and tracing your application using LangSmith\n",
    "\n",
    "- Deploying your application with LangServe"
   ],
   "id": "cd322c5d8eea104b"
  },
  {
   "metadata": {},
   "cell_type": "markdown",
   "source": "",
   "id": "147f1813c9ecb9b1"
  },
  {
   "metadata": {
    "ExecuteTime": {
     "end_time": "2025-08-17T13:20:54.624075Z",
     "start_time": "2025-08-17T13:20:54.617286Z"
    }
   },
   "cell_type": "code",
   "source": [
    "### Open AI API key and Opensource models- LLama3, Gemma2, mistral--Groq\n",
    "import os\n",
    "from dotenv import load_dotenv\n",
    "load_dotenv()\n",
    "\n",
    "\n",
    "import openai\n",
    "openai.api_key = os.getenv(\"OPENAI_API_KEY\")\n",
    "\n",
    "groq_api_key = os.getenv(\"GROQ_API_KEY\")"
   ],
   "id": "afc22a70c8f39d7f",
   "outputs": [],
   "execution_count": 2
  },
  {
   "metadata": {
    "ExecuteTime": {
     "end_time": "2025-08-17T13:23:57.878595Z",
     "start_time": "2025-08-17T13:23:56.882674Z"
    }
   },
   "cell_type": "code",
   "source": [
    "from langchain_openai import ChatOpenAI\n",
    "from langchain_groq import ChatGroq\n",
    "\n",
    "model = ChatGroq(model=\"gemma2-9b-it\", api_key=groq_api_key)\n",
    "model"
   ],
   "id": "60a0be23bfe92055",
   "outputs": [
    {
     "data": {
      "text/plain": [
       "ChatGroq(client=<groq.resources.chat.completions.Completions object at 0x0000022F1D73A690>, async_client=<groq.resources.chat.completions.AsyncCompletions object at 0x0000022F1D875E50>, model_name='gemma2-9b-it', model_kwargs={}, groq_api_key=SecretStr('**********'))"
      ]
     },
     "execution_count": 3,
     "metadata": {},
     "output_type": "execute_result"
    }
   ],
   "execution_count": 3
  },
  {
   "metadata": {
    "ExecuteTime": {
     "end_time": "2025-08-17T13:31:51.450943Z",
     "start_time": "2025-08-17T13:31:51.082256Z"
    }
   },
   "cell_type": "code",
   "source": [
    "from langchain_core.messages import HumanMessage, SystemMessage\n",
    "messages = [\n",
    "    SystemMessage(content=\"Translate the following from English to French\"),\n",
    "    HumanMessage(content=\"Hello How are you?\")\n",
    "]\n",
    "\n",
    "result = model.invoke(messages)\n",
    "result"
   ],
   "id": "6744a3b506e8a08d",
   "outputs": [
    {
     "data": {
      "text/plain": [
       "AIMessage(content='**Hello** - Bonjour\\n\\n**How are you?** - Comment allez-vous? \\n\\n(More informal: Comment vas-tu?) \\n', additional_kwargs={}, response_metadata={'token_usage': {'completion_tokens': 33, 'prompt_tokens': 21, 'total_tokens': 54, 'completion_time': 0.06, 'prompt_time': 0.00132278, 'queue_time': 0.187726133, 'total_time': 0.06132278}, 'model_name': 'gemma2-9b-it', 'system_fingerprint': 'fp_10c08bf97d', 'service_tier': 'on_demand', 'finish_reason': 'stop', 'logprobs': None}, id='run--d7487e8e-0054-4925-a0f9-492037ecfb09-0', usage_metadata={'input_tokens': 21, 'output_tokens': 33, 'total_tokens': 54})"
      ]
     },
     "execution_count": 5,
     "metadata": {},
     "output_type": "execute_result"
    }
   ],
   "execution_count": 5
  },
  {
   "metadata": {
    "ExecuteTime": {
     "end_time": "2025-08-17T13:34:27.323236Z",
     "start_time": "2025-08-17T13:34:27.313373Z"
    }
   },
   "cell_type": "code",
   "source": [
    "from langchain_core.output_parsers import StrOutputParser\n",
    "parser = StrOutputParser()\n",
    "parser.invoke(result)"
   ],
   "id": "6196d0a54e3f741",
   "outputs": [
    {
     "data": {
      "text/plain": [
       "'Here are a couple of ways to say \"Hello, how are you?\" in French:\\n\\n**Formal:**\\n\\n* **Bonjour, comment allez-vous ?** (This is the most polite and formal way to greet someone.)\\n\\n**Informal:**\\n\\n* **Salut, comment vas-tu ?** (This is a more casual way to greet someone you know well.)\\n* **Coucou, comment ça va ?** (This is a very informal way to greet someone, similar to \"Hey, how\\'s it going?\")\\n\\n\\nLet me know if you\\'d like to learn more French greetings! \\n'"
      ]
     },
     "execution_count": 7,
     "metadata": {},
     "output_type": "execute_result"
    }
   ],
   "execution_count": 7
  },
  {
   "metadata": {
    "ExecuteTime": {
     "end_time": "2025-08-17T13:35:53.989162Z",
     "start_time": "2025-08-17T13:35:53.550854Z"
    }
   },
   "cell_type": "code",
   "source": [
    "### Using LCEL- chain the components\n",
    "chain = model | parser\n",
    "chain.invoke(messages)\n"
   ],
   "id": "abf09a7faaf44bfb",
   "outputs": [
    {
     "data": {
      "text/plain": [
       "'Hello: Bonjour \\n\\nHow are you?: Comment allez-vous? (formal) or Ça va? (informal) \\n\\n\\nSo, together they would be:\\n\\n**Bonjour, comment allez-vous?** (formal)\\n**Bonjour, ça va?** (informal) \\n'"
      ]
     },
     "execution_count": 8,
     "metadata": {},
     "output_type": "execute_result"
    }
   ],
   "execution_count": 8
  },
  {
   "metadata": {
    "ExecuteTime": {
     "end_time": "2025-08-17T13:39:00.320959Z",
     "start_time": "2025-08-17T13:39:00.265208Z"
    }
   },
   "cell_type": "code",
   "source": [
    "## Prompt Template\n",
    "from langchain_core.prompts import ChatPromptTemplate\n",
    "genric_template = \"Translate the following into {Language}\"\n",
    "prompt = ChatPromptTemplate.from_messages(\n",
    "    [(\"system\", genric_template), (\"user\", \"{text}\")]\n",
    ")\n",
    "\n",
    "prompt"
   ],
   "id": "6ebb0cc3d0b8e7f1",
   "outputs": [
    {
     "data": {
      "text/plain": [
       "ChatPromptTemplate(input_variables=['Language', 'text'], input_types={}, partial_variables={}, messages=[SystemMessagePromptTemplate(prompt=PromptTemplate(input_variables=['Language'], input_types={}, partial_variables={}, template='Translate the following into {Language}'), additional_kwargs={}), HumanMessagePromptTemplate(prompt=PromptTemplate(input_variables=['text'], input_types={}, partial_variables={}, template='{text}'), additional_kwargs={})])"
      ]
     },
     "execution_count": 9,
     "metadata": {},
     "output_type": "execute_result"
    }
   ],
   "execution_count": 9
  },
  {
   "metadata": {
    "ExecuteTime": {
     "end_time": "2025-08-17T13:40:59.368218Z",
     "start_time": "2025-08-17T13:40:59.363836Z"
    }
   },
   "cell_type": "code",
   "source": [
    "result = prompt.invoke({\n",
    "    \"Language\": \"French\",\n",
    "    \"text\": \"Hello\",\n",
    "})\n",
    "\n",
    "result"
   ],
   "id": "8d12fa7574b2b009",
   "outputs": [],
   "execution_count": 11
  },
  {
   "metadata": {
    "ExecuteTime": {
     "end_time": "2025-08-17T13:43:02.509632Z",
     "start_time": "2025-08-17T13:43:02.162863Z"
    }
   },
   "cell_type": "code",
   "source": [
    "chain = prompt | model | parser\n",
    "chain.invoke({\"Language\": \"French\", \"text\": \"Hello\"})"
   ],
   "id": "84251853dcd3e99c",
   "outputs": [
    {
     "data": {
      "text/plain": [
       "'Bonjour \\n'"
      ]
     },
     "execution_count": 14,
     "metadata": {},
     "output_type": "execute_result"
    }
   ],
   "execution_count": 14
  },
  {
   "metadata": {},
   "cell_type": "code",
   "outputs": [],
   "execution_count": null,
   "source": "",
   "id": "e8846d662244ea06"
  }
 ],
 "metadata": {
  "kernelspec": {
   "display_name": "Python 3",
   "language": "python",
   "name": "python3"
  },
  "language_info": {
   "codemirror_mode": {
    "name": "ipython",
    "version": 2
   },
   "file_extension": ".py",
   "mimetype": "text/x-python",
   "name": "python",
   "nbconvert_exporter": "python",
   "pygments_lexer": "ipython2",
   "version": "2.7.6"
  }
 },
 "nbformat": 4,
 "nbformat_minor": 5
}
